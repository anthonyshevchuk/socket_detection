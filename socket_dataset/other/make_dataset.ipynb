{
 "cells": [
  {
   "cell_type": "code",
   "execution_count": 8,
   "metadata": {},
   "outputs": [],
   "source": [
    "import os\n",
    "import json\n",
    "from sklearn.model_selection import train_test_split"
   ]
  },
  {
   "cell_type": "code",
   "execution_count": 4,
   "metadata": {},
   "outputs": [],
   "source": [
    "os.mkdir('../socket_tiny')"
   ]
  },
  {
   "cell_type": "code",
   "execution_count": 9,
   "metadata": {},
   "outputs": [],
   "source": [
    "with open('../kitti_tiny/train.txt', 'r') as f:\n",
    "    ref = f.read()"
   ]
  },
  {
   "cell_type": "code",
   "execution_count": 10,
   "metadata": {},
   "outputs": [
    {
     "data": {
      "text/plain": [
       "'000000\\n000001\\n000002\\n000003\\n000004\\n000005\\n000006\\n000007\\n000008\\n000009\\n000010\\n000011\\n000012\\n000013\\n000014\\n000015\\n000016\\n000017\\n000018\\n000019\\n000020\\n000021\\n000022\\n000023\\n000024\\n000025\\n000026\\n000027\\n000028\\n000029\\n000030\\n000031\\n000032\\n000033\\n000034\\n000035\\n000036\\n000037\\n000038\\n000039\\n000040\\n000041\\n000042\\n000043\\n000044\\n000045\\n000046\\n000047\\n000048\\n000049\\n'"
      ]
     },
     "execution_count": 10,
     "metadata": {},
     "output_type": "execute_result"
    }
   ],
   "source": [
    "ref"
   ]
  },
  {
   "cell_type": "markdown",
   "metadata": {},
   "source": [
    "# Structure of folders"
   ]
  },
  {
   "cell_type": "code",
   "execution_count": 5,
   "metadata": {},
   "outputs": [
    {
     "name": "stdout",
     "output_type": "stream",
     "text": [
      "\u001b[34mWe Were Here Together.app\u001b[m\u001b[m/ \u001b[34msocket_dataset_prep\u001b[m\u001b[m/\n",
      "\u001b[34mkitti_tiny\u001b[m\u001b[m/                \u001b[34msocket_tiny\u001b[m\u001b[m/\n",
      "\u001b[34msocket_dataset\u001b[m\u001b[m/            \u001b[34mЯна\u001b[m\u001b[m/\n",
      "socket_dataset.zip\n"
     ]
    }
   ],
   "source": [
    "ls .."
   ]
  },
  {
   "cell_type": "code",
   "execution_count": 7,
   "metadata": {},
   "outputs": [
    {
     "name": "stdout",
     "output_type": "stream",
     "text": [
      "train.txt  \u001b[34mtraining\u001b[m\u001b[m/  val.txt\n"
     ]
    }
   ],
   "source": [
    "ls ../kitti_tiny"
   ]
  },
  {
   "cell_type": "code",
   "execution_count": 11,
   "metadata": {},
   "outputs": [
    {
     "name": "stdout",
     "output_type": "stream",
     "text": [
      "\u001b[34mimage_2\u001b[m\u001b[m/ \u001b[34mlabel_2\u001b[m\u001b[m/\n"
     ]
    }
   ],
   "source": [
    "ls ../kitti_tiny/training"
   ]
  },
  {
   "cell_type": "code",
   "execution_count": 12,
   "metadata": {},
   "outputs": [
    {
     "name": "stdout",
     "output_type": "stream",
     "text": [
      "000000.jpeg  000013.jpeg  000026.jpeg  000039.jpeg  000052.jpeg  000065.jpeg\n",
      "000001.jpeg  000014.jpeg  000027.jpeg  000040.jpeg  000053.jpeg  000066.jpeg\n",
      "000002.jpeg  000015.jpeg  000028.jpeg  000041.jpeg  000054.jpeg  000067.jpeg\n",
      "000003.jpeg  000016.jpeg  000029.jpeg  000042.jpeg  000055.jpeg  000068.jpeg\n",
      "000004.jpeg  000017.jpeg  000030.jpeg  000043.jpeg  000056.jpeg  000069.jpeg\n",
      "000005.jpeg  000018.jpeg  000031.jpeg  000044.jpeg  000057.jpeg  000070.jpeg\n",
      "000006.jpeg  000019.jpeg  000032.jpeg  000045.jpeg  000058.jpeg  000071.jpeg\n",
      "000007.jpeg  000020.jpeg  000033.jpeg  000046.jpeg  000059.jpeg  000072.jpeg\n",
      "000008.jpeg  000021.jpeg  000034.jpeg  000047.jpeg  000060.jpeg  000073.jpeg\n",
      "000009.jpeg  000022.jpeg  000035.jpeg  000048.jpeg  000061.jpeg  000074.jpeg\n",
      "000010.jpeg  000023.jpeg  000036.jpeg  000049.jpeg  000062.jpeg\n",
      "000011.jpeg  000024.jpeg  000037.jpeg  000050.jpeg  000063.jpeg\n",
      "000012.jpeg  000025.jpeg  000038.jpeg  000051.jpeg  000064.jpeg\n"
     ]
    }
   ],
   "source": [
    "ls ../kitti_tiny/training/image_2"
   ]
  },
  {
   "cell_type": "code",
   "execution_count": 13,
   "metadata": {},
   "outputs": [
    {
     "name": "stdout",
     "output_type": "stream",
     "text": [
      "000000.txt  000013.txt  000026.txt  000039.txt  000052.txt  000065.txt\n",
      "000001.txt  000014.txt  000027.txt  000040.txt  000053.txt  000066.txt\n",
      "000002.txt  000015.txt  000028.txt  000041.txt  000054.txt  000067.txt\n",
      "000003.txt  000016.txt  000029.txt  000042.txt  000055.txt  000068.txt\n",
      "000004.txt  000017.txt  000030.txt  000043.txt  000056.txt  000069.txt\n",
      "000005.txt  000018.txt  000031.txt  000044.txt  000057.txt  000070.txt\n",
      "000006.txt  000019.txt  000032.txt  000045.txt  000058.txt  000071.txt\n",
      "000007.txt  000020.txt  000033.txt  000046.txt  000059.txt  000072.txt\n",
      "000008.txt  000021.txt  000034.txt  000047.txt  000060.txt  000073.txt\n",
      "000009.txt  000022.txt  000035.txt  000048.txt  000061.txt  000074.txt\n",
      "000010.txt  000023.txt  000036.txt  000049.txt  000062.txt\n",
      "000011.txt  000024.txt  000037.txt  000050.txt  000063.txt\n",
      "000012.txt  000025.txt  000038.txt  000051.txt  000064.txt\n"
     ]
    }
   ],
   "source": [
    "ls ../kitti_tiny/training/label_2"
   ]
  },
  {
   "cell_type": "code",
   "execution_count": null,
   "metadata": {},
   "outputs": [],
   "source": []
  },
  {
   "cell_type": "markdown",
   "metadata": {},
   "source": [
    "# Socket raw annotation"
   ]
  },
  {
   "cell_type": "code",
   "execution_count": 26,
   "metadata": {},
   "outputs": [],
   "source": [
    "with open('socket_annotation_prepared.json', 'r') as f:\n",
    "    socket_raw_ann = json.load(f)"
   ]
  },
  {
   "cell_type": "code",
   "execution_count": 27,
   "metadata": {},
   "outputs": [],
   "source": [
    "jpeg_files = []\n",
    "for k in socket_raw_ann.keys():\n",
    "    if k.endswith('jpg') or k.endswith('jpeg'):\n",
    "        jpeg_files.append(k)"
   ]
  },
  {
   "cell_type": "code",
   "execution_count": 28,
   "metadata": {},
   "outputs": [
    {
     "data": {
      "text/plain": [
       "114"
      ]
     },
     "execution_count": 28,
     "metadata": {},
     "output_type": "execute_result"
    }
   ],
   "source": [
    "len(jpeg_files)"
   ]
  },
  {
   "cell_type": "code",
   "execution_count": 29,
   "metadata": {},
   "outputs": [],
   "source": [
    "os.mkdir('image_2')"
   ]
  },
  {
   "cell_type": "code",
   "execution_count": 30,
   "metadata": {},
   "outputs": [],
   "source": [
    "for k in socket_raw_ann.keys():\n",
    "    if k.endswith('jpg') or k.endswith('jpeg'):\n",
    "        os.popen(f'cp training/images/{k} image_2/{k}')"
   ]
  },
  {
   "cell_type": "code",
   "execution_count": 25,
   "metadata": {},
   "outputs": [],
   "source": []
  },
  {
   "cell_type": "code",
   "execution_count": 34,
   "metadata": {},
   "outputs": [],
   "source": [
    "name2id = {}\n",
    "\n",
    "for i, f in enumerate(jpeg_files):\n",
    "    if len(str(i)) == 1:\n",
    "        id_ = '00000' + str(i)\n",
    "        \n",
    "    elif len(str(i)) == 2:\n",
    "        id_ = '0000' + str(i)\n",
    "        \n",
    "    elif len(str(i)) == 3:\n",
    "        id_ = '000' + str(i)\n",
    "        \n",
    "    name2id[f] = id_"
   ]
  },
  {
   "cell_type": "code",
   "execution_count": 39,
   "metadata": {},
   "outputs": [
    {
     "data": {
      "text/plain": [
       "'7.%d0%91%d0%bb%d0%be%d0%ba-%d1%80%d0%be%d0%b7%d0%b5%d1%82%d0%be%d0%ba-%d0%b2-%d1%81%d1%82%d0%b5%d0%bd%d0%b5.jpg'"
      ]
     },
     "execution_count": 39,
     "metadata": {},
     "output_type": "execute_result"
    }
   ],
   "source": [
    "jpeg_files[10]"
   ]
  },
  {
   "cell_type": "code",
   "execution_count": 40,
   "metadata": {},
   "outputs": [
    {
     "data": {
      "text/plain": [
       "'000010'"
      ]
     },
     "execution_count": 40,
     "metadata": {},
     "output_type": "execute_result"
    }
   ],
   "source": [
    "name2id[jpeg_files[10]]"
   ]
  },
  {
   "cell_type": "code",
   "execution_count": 42,
   "metadata": {},
   "outputs": [],
   "source": [
    "for name in name2id:\n",
    "    os.rename(f'image_2/{name}', f'image_2/{name2id[name]}.jpeg')"
   ]
  },
  {
   "cell_type": "code",
   "execution_count": null,
   "metadata": {},
   "outputs": [],
   "source": []
  },
  {
   "cell_type": "code",
   "execution_count": 31,
   "metadata": {},
   "outputs": [],
   "source": [
    "os.mkdir('label_2')"
   ]
  },
  {
   "cell_type": "code",
   "execution_count": 45,
   "metadata": {},
   "outputs": [],
   "source": [
    "with open('../kitti_tiny/training/label_2/000001.txt', 'r') as f:\n",
    "    kitty_ann = f.read()"
   ]
  },
  {
   "cell_type": "code",
   "execution_count": 46,
   "metadata": {},
   "outputs": [
    {
     "data": {
      "text/plain": [
       "'Truck 0.00 0 -1.57 599.41 156.40 629.75 189.25 2.85 2.63 12.34 0.47 1.49 69.44 -1.56\\nCar 0.00 0 1.85 387.63 181.54 423.81 203.12 1.67 1.87 3.69 -16.53 2.39 58.49 1.57\\nCyclist 0.00 3 -1.65 676.60 163.95 688.98 193.93 1.86 0.60 2.02 4.59 1.32 45.84 -1.55\\nDontCare -1 -1 -10 503.89 169.71 590.61 190.13 -1 -1 -1 -1000 -1000 -1000 -10\\nDontCare -1 -1 -10 511.35 174.96 527.81 187.45 -1 -1 -1 -1000 -1000 -1000 -10\\nDontCare -1 -1 -10 532.37 176.35 542.68 185.27 -1 -1 -1 -1000 -1000 -1000 -10\\nDontCare -1 -1 -10 559.62 175.83 575.40 183.15 -1 -1 -1 -1000 -1000 -1000 -10\\n'"
      ]
     },
     "execution_count": 46,
     "metadata": {},
     "output_type": "execute_result"
    }
   ],
   "source": [
    "kitty_ann"
   ]
  },
  {
   "cell_type": "code",
   "execution_count": 52,
   "metadata": {},
   "outputs": [],
   "source": [
    "lines = kitty_ann.split('\\n')\n",
    "\n",
    "content = [line.strip().split(' ') for line in lines]\n",
    "bbox_names = [x[0] for x in content]\n",
    "bboxes = [[float(info) for info in x[4:8]] for x in content]"
   ]
  },
  {
   "cell_type": "code",
   "execution_count": 54,
   "metadata": {},
   "outputs": [
    {
     "data": {
      "text/plain": [
       "['Truck', 'Car', 'Cyclist', 'DontCare', 'DontCare', 'DontCare', 'DontCare', '']"
      ]
     },
     "execution_count": 54,
     "metadata": {},
     "output_type": "execute_result"
    }
   ],
   "source": [
    "bbox_names"
   ]
  },
  {
   "cell_type": "code",
   "execution_count": 56,
   "metadata": {},
   "outputs": [
    {
     "data": {
      "text/plain": [
       "'Truck 0.00 0 -1.57 599.41 156.40 629.75 189.25 2.85 2.63 12.34 0.47 1.49 69.44 -1.56'"
      ]
     },
     "execution_count": 56,
     "metadata": {},
     "output_type": "execute_result"
    }
   ],
   "source": [
    "lines[0]"
   ]
  },
  {
   "cell_type": "code",
   "execution_count": 55,
   "metadata": {},
   "outputs": [
    {
     "data": {
      "text/plain": [
       "[[599.41, 156.4, 629.75, 189.25],\n",
       " [387.63, 181.54, 423.81, 203.12],\n",
       " [676.6, 163.95, 688.98, 193.93],\n",
       " [503.89, 169.71, 590.61, 190.13],\n",
       " [511.35, 174.96, 527.81, 187.45],\n",
       " [532.37, 176.35, 542.68, 185.27],\n",
       " [559.62, 175.83, 575.4, 183.15],\n",
       " []]"
      ]
     },
     "execution_count": 55,
     "metadata": {},
     "output_type": "execute_result"
    }
   ],
   "source": [
    "bboxes"
   ]
  },
  {
   "cell_type": "code",
   "execution_count": 77,
   "metadata": {},
   "outputs": [],
   "source": [
    "for file in jpeg_files:\n",
    "    lines = []\n",
    "    ann = socket_raw_ann[file]\n",
    "    for bbox in ann:\n",
    "        coords_str = ' '.join([str(float(n)) for n in bbox])\n",
    "        line = 'Socket _ _ _ ' + coords_str\n",
    "        lines.append(line)\n",
    "        \n",
    "    new_name = name2id[file]\n",
    "    with open(f'label_2/{new_name}.txt', 'w') as f:\n",
    "        f.writelines(f'{l}\\n' for l in lines)"
   ]
  },
  {
   "cell_type": "code",
   "execution_count": 78,
   "metadata": {},
   "outputs": [
    {
     "data": {
      "text/plain": [
       "['1.img_1011214.jpg',\n",
       " '2.dscn0024.jpg',\n",
       " '2.european-style-two-mounted-wall-european-standard-power-outlet-german-16a-double-socket-oa810db.jpg',\n",
       " '3.original-one-socket-usb-ground-white-wall-socket-5v-2a-european-plug-socket-power-supply-wall.jpg',\n",
       " '3.rozetka-vstene-sodnim-gnezdom-e1518707287986.jpg',\n",
       " '4.electricity-tiles-type-k.jpg',\n",
       " '5.155.jpg',\n",
       " '5.maxresdefault.jpg',\n",
       " '6.htb1kzyvdvqs8kjjszfeq6a9rpxah.jpg',\n",
       " '6.podcleuchenij_blok_rozetok-2.jpg',\n",
       " '7.%d0%91%d0%bb%d0%be%d0%ba-%d1%80%d0%be%d0%b7%d0%b5%d1%82%d0%be%d0%ba-%d0%b2-%d1%81%d1%82%d0%b5%d0%bd%d0%b5.jpg',\n",
       " '8.european-wall-outlet-27846150.jpg',\n",
       " '8.skryityie-rozetki-20.jpg',\n",
       " '9.b44a3d0f99b4a447901ab2fd34b124513c537163_original.jpeg',\n",
       " '11.htb18fmippxxxxcuxvxxq6xxfxxxm.jpg',\n",
       " '11.podkluchenije_rozetki-5.jpg',\n",
       " '12.he963c4021ed04026be767ea9d03a2d52i.jpg',\n",
       " '12.small_3b9551b9a9dcc86200e2b683589832dd.jpg',\n",
       " '13.1-rozetka-vy-padaet-iz-steny-_samelectric.ru_.jpg',\n",
       " '13.europe-white-pc-electric-wall-switch-socket-germany-standard-waterproof-socket-light-switch.jpg',\n",
       " '14.1478018888_11.jpg',\n",
       " '14.ba374dbce4701b8244fe3ac867e0d4822e723120_1024_1024.jpeg',\n",
       " '15.finishnyj-montazh-rozetki.jpg',\n",
       " '17.european-socket-outlet-type-f-real-triple-white-painted-plaster-interior-wall-197965122.jpg',\n",
       " '18.5f378464eef5f9003d78ff9a-large.jpg',\n",
       " '18.kak-ustanovit-rozetku-v-betonnuyu-stenu_0.jpg',\n",
       " '19.h2cdaff113ff14dc488aa9a77b22e383ex.jpg',\n",
       " '20.hf25cff678e3f454f9db8ef8d9ead2ec2x.jpg',\n",
       " '20.maxresdefault.jpg',\n",
       " '21.europe-standard-2-pole-16a-double-schuko-socket-without-earth-contact.jpg',\n",
       " '21.kak-zakrepit-rozetku-v-stene-esli-ona-vyvalivaetsya-1.jpg',\n",
       " '22.1_731.jpg',\n",
       " '22.socket-blue-wall-multifunction-outlet-internet-connection-european-style-outlets-socket-blue-wall-122521774.jpg',\n",
       " '23.ip20-europe-surface-mounted-double-wall-power-socket-s3210-.jpg',\n",
       " '24.3627ab669cca987d01f3e6264888217f.jpg',\n",
       " '24.televizionnaya-rozetka.jpg',\n",
       " '25.h149336d540534ff48fcc60bcee1916a3a.jpg',\n",
       " '27.852-1.jpg',\n",
       " '27.american-wall-socket-sign-socket-switch-plug-base-american-style-plug-panel-type-power-outlet-american-wall-socket-socket-switch-191636144.jpg',\n",
       " '28.mvava-europe-shuko-sockets-mirror-crystal-glass-eu-german-standard-wall-power-socket-electrical-outlet-ac-110-250v-16a.jpg',\n",
       " '29.2e2d85e96d8d930a6adfa1fca451dbd4_1569838883-e1569838909357.jpg',\n",
       " '30.%d0%9d%d0%b0%d1%80%d1%83%d0%b6%d0%bd%d0%b0%d1%8f-%d1%80%d0%be%d0%b7%d0%b5%d1%82%d0%ba%d0%b0-%d0%bd%d0%b0-%d0%b4%d0%b5%d1%80%d0%b5%d0%b2%d1%8f%d0%bd%d0%bd%d0%be%d0%b9-%d1%81%d1%82%d0%b5%d0%bd%d0%b5.jpg',\n",
       " '31.white-european-high-w-voltage-socket-light-switch-black-wall-typical-modern-home-interior-essentials-redecorating-196723174.jpg',\n",
       " '32.1644586623_27-idei-club-p-rozetka-na-stene-interer-krasivo-foto-41.jpg',\n",
       " '33.electricity-tiles-type-c.jpg',\n",
       " '33.kak-ustanovit-blok-rozetok-v-stene-24-1.jpg',\n",
       " '35.072ae78059069a925681be776672f8a94b19c268_original.jpeg',\n",
       " '36.s-l500.jpg',\n",
       " '37.9b04cd57a6fe427d1edd8549cb84a0a6cedf4f55_original.jpeg',\n",
       " '38.europe-wall-socket-extension-outlet-spread-1-to-3-way-eu-standard-power-socket-wall-strip.jpg',\n",
       " '39.h2bef3c4e2bdf4df9b15889a2d94b67b9m.jpg',\n",
       " '39.mqdefault.jpg',\n",
       " '40.europe-standard-double-wall-socket-outlet-4-8a-usb-charger.jpg',\n",
       " '42.socket-on-a-blue-wall-a-multifunction-outlet-with-an-internet-and-picture-id1010075882.jpg',\n",
       " '43.european-double-socket-outlet-picture_csp63532410.jpg',\n",
       " '45.156048-16715840.jpg',\n",
       " '45.ac73f77e44b14a62f9d0785682675d4f.jpg',\n",
       " '46.122f1c2105ce4e6d9830343a591fd6ef.jpg',\n",
       " '46.rozetka-v-stene.jpg',\n",
       " '47..jpg',\n",
       " '50.white-european-v-power-socket-green-wall-novi-sad-serbia-87658622.jpg',\n",
       " '52.europe-standard-electrical-wall-socket-schuko-socket.jpg',\n",
       " '54.file-20201216-19-1fqq93z.jpg',\n",
       " '55.9703675391bd093ac62c4594af88d8ad.jpg',\n",
       " '56.hcf5e04d636cc4235b602675f44756fc4t.jpg',\n",
       " '58..jpg',\n",
       " '58.unlacquered-brass-double-german-socket-e1588164729938-800x800.jpg',\n",
       " '59.painted-german-socket-2-e1588165179955-800x800.jpg',\n",
       " '59.small_7f2bc2cac20dacc265c84c5d067b5d47.jpg',\n",
       " '60.rozetki.jpg',\n",
       " '61.rozetka-tv-i-5pitaniya-na-stene-visage_samelectric.ru_.jpg',\n",
       " '62.hotsell-usb-socket-wall-europe-with-usb-charger-outlet.jpg',\n",
       " '62.kak-zakrepit-rozetku-v-betonnoj-stene_27.jpg',\n",
       " '63.plastic-german-double-socket-outlets-type-f-with-grounding-pair-of-empty-unplugged-european-white-stock-photos_csp87992636.jpg',\n",
       " '63.trojnaja-rozetka.jpg',\n",
       " '64.4.jpg',\n",
       " '65.h9e5a6f2303c94345a9bc2e3fa2efdd676.jpg',\n",
       " '65.hqdefault.jpg',\n",
       " '66.depositphotos_6309945-stock-photo-white-electric-socket-on-the.jpg',\n",
       " '66.socket-blue-wall-multifunction-outlet-internet-connection-european-style-outlets-socket-blue-wall-122521890.jpg',\n",
       " '67.dual-electrical-socket-type-f-receptacle-from-europe-vector-id970813042.jpg',\n",
       " '68.%d1%80%d0%be%d0%b7%d0%b5%d1%82%d0%ba%d0%b0-%d0%bd%d0%b0-%d1%81%d0%b8%d0%bd%d0%b5%d0%b9-%d1%81%d1%82%d0%b5%d0%bd%d0%b5-215833605.jpg',\n",
       " '69.aa4899ee-99ab-4890-900f-2ef1f68a50de.jpg',\n",
       " '69.outlet_installed_11.jpg',\n",
       " '70.25c5eb7fc74eac339771ec567910319c.jpg',\n",
       " '71.h9e6e0b0ea2064a88960d0b2d0d98d7bb1.jpg',\n",
       " '72.depositphotos_2585182-stock-photo-electric-socket-on-wall.jpg',\n",
       " '72.vlxes55fb.jpg',\n",
       " '73.europe-type-schuko-electrical-wall-plug-socket-with-usb.jpg',\n",
       " '74.usb-wall-socket.jpg',\n",
       " '74.utoplennaya-v-stenu-rozetka-4.jpg',\n",
       " '75.european-socket-unlacquered-brass-double-german-socket-2-b.jpg',\n",
       " '75.rozetka_zakreplena.jpg',\n",
       " '76.yd-59-01.jpg',\n",
       " '77.depositphotos_10259297-stock-photo-white-electric-socket-with-plug.jpg',\n",
       " '77.power-socket-european-type-f-socket-t7nnk9.jpg',\n",
       " '78.eu-european-power-electrical-panel-wall-tabletop-desktop-internal-250v-socket-outlet-german-type-f-schuko.jpg',\n",
       " '79.maxresdefault.jpg',\n",
       " '80.kak-pomenyat-rozetku.jpg',\n",
       " '81.electrical-socket-type-f-switch-receptacle-europe-electrical-socket-type-f-switch-power-plug-vector-illustration-121566590.jpg',\n",
       " '84.kak-snyat-rozetku-so-steny.jpg',\n",
       " '84.s-l500.jpg',\n",
       " '85.kak-ustanovit-blok-rozetok-v-stene-svoimi-rukami-1.jpg',\n",
       " '85.socket-with-plug-and-shadow-on-blue-wall-european-socket-technology-vector-id1158098461.jpg',\n",
       " '86.h13fa7bcd7e5a4852a5881cf373ce2504f.jpg',\n",
       " '86.vyibor-rozetok-i-vyiklyuchateley.jpg',\n",
       " '87.antique-bronze-double-french-socket-2-e1588165211105-800x800.jpg',\n",
       " '87.depositphotos_321734344-stock-photo-sockets-light-wall-electrical-television.jpg',\n",
       " '88.group-white-european-electrical-outlets-260nw-2170609761.jpg',\n",
       " '89.europe-type-white-plastic-power-socket-vector-39675122.jpg',\n",
       " '89.raznovidnosti-ehlektricheskih-rozetok-i-vyklyuchatelej-3.jpg',\n",
       " '90.70.jpg',\n",
       " '90.image.jpg',\n",
       " '91.depositphotos_81658660-stock-illustration-european-and-uk-socket.jpg']"
      ]
     },
     "execution_count": 78,
     "metadata": {},
     "output_type": "execute_result"
    }
   ],
   "source": [
    "jpeg_files"
   ]
  },
  {
   "cell_type": "code",
   "execution_count": 82,
   "metadata": {},
   "outputs": [],
   "source": [
    "train, val = train_test_split(list(name2id.values()))"
   ]
  },
  {
   "cell_type": "code",
   "execution_count": 83,
   "metadata": {},
   "outputs": [
    {
     "data": {
      "text/plain": [
       "85"
      ]
     },
     "execution_count": 83,
     "metadata": {},
     "output_type": "execute_result"
    }
   ],
   "source": [
    "len(train)"
   ]
  },
  {
   "cell_type": "code",
   "execution_count": 84,
   "metadata": {},
   "outputs": [
    {
     "data": {
      "text/plain": [
       "29"
      ]
     },
     "execution_count": 84,
     "metadata": {},
     "output_type": "execute_result"
    }
   ],
   "source": [
    "len(val)"
   ]
  },
  {
   "cell_type": "code",
   "execution_count": 85,
   "metadata": {},
   "outputs": [],
   "source": [
    "with open('train.txt', 'w') as f:\n",
    "    f.writelines(f'{l}\\n' for l in train)"
   ]
  },
  {
   "cell_type": "code",
   "execution_count": 86,
   "metadata": {},
   "outputs": [],
   "source": [
    "with open('val.txt', 'w') as f:\n",
    "    f.writelines(f'{l}\\n' for l in val)"
   ]
  }
 ],
 "metadata": {
  "kernelspec": {
   "display_name": "Python 3",
   "language": "python",
   "name": "python3"
  },
  "language_info": {
   "codemirror_mode": {
    "name": "ipython",
    "version": 3
   },
   "file_extension": ".py",
   "mimetype": "text/x-python",
   "name": "python",
   "nbconvert_exporter": "python",
   "pygments_lexer": "ipython3",
   "version": "3.8.5"
  }
 },
 "nbformat": 4,
 "nbformat_minor": 4
}
