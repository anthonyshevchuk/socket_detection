{
 "cells": [
  {
   "cell_type": "markdown",
   "metadata": {},
   "source": [
    "This notebook is based on this https://github.com/sgrvinod/a-PyTorch-Tutorial-to-Object-Detection/blob/master/utils.py"
   ]
  },
  {
   "cell_type": "code",
   "execution_count": 2,
   "metadata": {},
   "outputs": [],
   "source": [
    "# TODO fix venv and kernel deps"
   ]
  },
  {
   "cell_type": "code",
   "execution_count": 55,
   "metadata": {},
   "outputs": [],
   "source": [
    "import os\n",
    "# import json\n",
    "# import os\n",
    "import torch\n",
    "# import random\n",
    "# import xml.etree.ElementTree as ET\n",
    "# import torchvision.transforms.functional as FT"
   ]
  },
  {
   "cell_type": "code",
   "execution_count": 37,
   "metadata": {},
   "outputs": [
    {
     "data": {
      "text/plain": [
       "'socket_dataset/*.txt'"
      ]
     },
     "execution_count": 37,
     "metadata": {},
     "output_type": "execute_result"
    }
   ],
   "source": []
  },
  {
   "cell_type": "code",
   "execution_count": 34,
   "metadata": {},
   "outputs": [
    {
     "name": "stdout",
     "output_type": "stream",
     "text": [
      "\u001b[34mnotebooks\u001b[m\u001b[m/      \u001b[34msocket_dataset\u001b[m\u001b[m/ \u001b[34mvenv\u001b[m\u001b[m/\n"
     ]
    }
   ],
   "source": [
    "ls .."
   ]
  },
  {
   "cell_type": "code",
   "execution_count": 5,
   "metadata": {},
   "outputs": [],
   "source": [
    "device = torch.device(\"cuda\" if torch.cuda.is_available() else \"cpu\")"
   ]
  },
  {
   "cell_type": "code",
   "execution_count": 6,
   "metadata": {},
   "outputs": [
    {
     "data": {
      "text/plain": [
       "device(type='cpu')"
      ]
     },
     "execution_count": 6,
     "metadata": {},
     "output_type": "execute_result"
    }
   ],
   "source": [
    "device"
   ]
  },
  {
   "cell_type": "code",
   "execution_count": 11,
   "metadata": {},
   "outputs": [],
   "source": [
    "# Label map - у нас всего один класс (розетка)\n",
    "voc_labels = ('socket',)"
   ]
  },
  {
   "cell_type": "code",
   "execution_count": 14,
   "metadata": {},
   "outputs": [],
   "source": [
    "# создаем маппинг + доп класс для бэкграунда\n",
    "label_map = {k: v + 1 for v, k in enumerate(voc_labels)}\n",
    "\n",
    "label_map['background'] = 0\n",
    "\n",
    "rev_label_map = {v: k for k, v in label_map.items()}  "
   ]
  },
  {
   "cell_type": "code",
   "execution_count": 15,
   "metadata": {},
   "outputs": [
    {
     "data": {
      "text/plain": [
       "{'socket': 1, 'background': 0}"
      ]
     },
     "execution_count": 15,
     "metadata": {},
     "output_type": "execute_result"
    }
   ],
   "source": [
    "label_map"
   ]
  },
  {
   "cell_type": "code",
   "execution_count": 40,
   "metadata": {},
   "outputs": [
    {
     "data": {
      "text/plain": [
       "1"
      ]
     },
     "execution_count": 40,
     "metadata": {},
     "output_type": "execute_result"
    }
   ],
   "source": [
    "label_map['socket']"
   ]
  },
  {
   "cell_type": "code",
   "execution_count": 16,
   "metadata": {},
   "outputs": [],
   "source": [
    "# Color map for bounding boxes of detected objects from https://sashat.me/2017/01/11/list-of-20-simple-distinct-colors/\n",
    "distinct_colors = ['#e6194b', '#3cb44b', '#ffe119', '#0082c8', '#f58231', '#911eb4', '#46f0f0', '#f032e6',\n",
    "                   '#d2f53c', '#fabebe', '#008080', '#000080', '#aa6e28', '#fffac8', '#800000', '#aaffc3', '#808000',\n",
    "                   '#ffd8b1', '#e6beff', '#808080', '#FFFFFF']\n",
    "\n",
    "label_color_map = {k: distinct_colors[i] for i, k in enumerate(label_map.keys())}"
   ]
  },
  {
   "cell_type": "code",
   "execution_count": 18,
   "metadata": {},
   "outputs": [
    {
     "data": {
      "text/plain": [
       "{'socket': '#e6194b', 'background': '#3cb44b'}"
      ]
     },
     "execution_count": 18,
     "metadata": {},
     "output_type": "execute_result"
    }
   ],
   "source": [
    "# присваиваем каждому классу свой цвет\n",
    "label_color_map"
   ]
  },
  {
   "cell_type": "code",
   "execution_count": 23,
   "metadata": {},
   "outputs": [],
   "source": [
    "# так как в искомом датасете есть еще difficulty скор:\n",
    "# \"a perceived detection difficulty (either 0, meaning not difficult, or 1, meaning difficult)\"\n",
    "# мы везде поставим 0 (вроде розетки не так сложно детектить)\n",
    "# TODO - понять, где потом используются эти скоры"
   ]
  },
  {
   "cell_type": "markdown",
   "metadata": {},
   "source": [
    "### Check"
   ]
  },
  {
   "cell_type": "code",
   "execution_count": 49,
   "metadata": {},
   "outputs": [],
   "source": [
    "with open('../socket_dataset/training/label_2/000000.txt', 'r') as f:\n",
    "    ann = f.readlines() "
   ]
  },
  {
   "cell_type": "code",
   "execution_count": 50,
   "metadata": {},
   "outputs": [
    {
     "data": {
      "text/plain": [
       "'Socket _ _ _ 492.0 271.0 569.0 211.0\\n'"
      ]
     },
     "execution_count": 50,
     "metadata": {},
     "output_type": "execute_result"
    }
   ],
   "source": [
    "ann[0]"
   ]
  },
  {
   "cell_type": "code",
   "execution_count": 53,
   "metadata": {},
   "outputs": [
    {
     "data": {
      "text/plain": [
       "[492.0, 271.0, 569.0, 211.0]"
      ]
     },
     "execution_count": 53,
     "metadata": {},
     "output_type": "execute_result"
    }
   ],
   "source": [
    "[float(v) for v in ann[0].split()[4:8]]"
   ]
  },
  {
   "cell_type": "code",
   "execution_count": 48,
   "metadata": {},
   "outputs": [],
   "source": [
    "def xyhw2minmax():\n",
    "    \"\"\"TODO\"\"\"\n",
    "    pass"
   ]
  },
  {
   "cell_type": "code",
   "execution_count": null,
   "metadata": {},
   "outputs": [],
   "source": []
  },
  {
   "cell_type": "code",
   "execution_count": null,
   "metadata": {},
   "outputs": [],
   "source": []
  },
  {
   "cell_type": "code",
   "execution_count": 38,
   "metadata": {},
   "outputs": [
    {
     "ename": "SyntaxError",
     "evalue": "invalid syntax (<ipython-input-38-a738320571fb>, line 17)",
     "output_type": "error",
     "traceback": [
      "\u001b[0;36m  File \u001b[0;32m\"<ipython-input-38-a738320571fb>\"\u001b[0;36m, line \u001b[0;32m17\u001b[0m\n\u001b[0;31m    bbox =\u001b[0m\n\u001b[0m           ^\u001b[0m\n\u001b[0;31mSyntaxError\u001b[0m\u001b[0;31m:\u001b[0m invalid syntax\n"
     ]
    }
   ],
   "source": [
    "def parse_annotation(annotation_path):\n",
    "    \"\"\"\n",
    "    Ф-ця для того чтобы распарсить (!) один файл аннотации (kitty dataset convention), и вернуть все\n",
    "    \"\"\"\n",
    "    \n",
    "    with open('../socket_dataset/training/label_2/000000.txt', 'r') as f:\n",
    "        ann = f.readlines() \n",
    "    \n",
    "        \n",
    "    boxes = list()\n",
    "    labels = list()\n",
    "    difficulties = list()\n",
    "    \n",
    "    for line in ann:\n",
    "        \n",
    "        difficult = 0 # пусть все боксы будут простыми :) \n",
    "        \n",
    "        coords = [float(v) for v in line.split()[4:8]]\n",
    "        \n",
    "        xmin, ymin, xmax, ymax = xyhw2minmax(coords)\n",
    "\n",
    "        boxes.append([xmin, ymin, xmax, ymax])\n",
    "        labels.append(label_map['socket'])\n",
    "        difficulties.append(difficult)\n",
    "\n",
    "    return {'boxes': boxes, 'labels': labels, 'difficulties': difficulties}"
   ]
  },
  {
   "cell_type": "code",
   "execution_count": 30,
   "metadata": {},
   "outputs": [
    {
     "name": "stdout",
     "output_type": "stream",
     "text": [
      "000000.txt  000019.txt  000038.txt  000057.txt  000076.txt  000095.txt\n",
      "000001.txt  000020.txt  000039.txt  000058.txt  000077.txt  000096.txt\n",
      "000002.txt  000021.txt  000040.txt  000059.txt  000078.txt  000097.txt\n",
      "000003.txt  000022.txt  000041.txt  000060.txt  000079.txt  000098.txt\n",
      "000004.txt  000023.txt  000042.txt  000061.txt  000080.txt  000099.txt\n",
      "000005.txt  000024.txt  000043.txt  000062.txt  000081.txt  000100.txt\n",
      "000006.txt  000025.txt  000044.txt  000063.txt  000082.txt  000101.txt\n",
      "000007.txt  000026.txt  000045.txt  000064.txt  000083.txt  000102.txt\n",
      "000008.txt  000027.txt  000046.txt  000065.txt  000084.txt  000103.txt\n",
      "000009.txt  000028.txt  000047.txt  000066.txt  000085.txt  000104.txt\n",
      "000010.txt  000029.txt  000048.txt  000067.txt  000086.txt  000105.txt\n",
      "000011.txt  000030.txt  000049.txt  000068.txt  000087.txt  000106.txt\n",
      "000012.txt  000031.txt  000050.txt  000069.txt  000088.txt  000107.txt\n",
      "000013.txt  000032.txt  000051.txt  000070.txt  000089.txt  000108.txt\n",
      "000014.txt  000033.txt  000052.txt  000071.txt  000090.txt  000109.txt\n",
      "000015.txt  000034.txt  000053.txt  000072.txt  000091.txt  000110.txt\n",
      "000016.txt  000035.txt  000054.txt  000073.txt  000092.txt  000111.txt\n",
      "000017.txt  000036.txt  000055.txt  000074.txt  000093.txt  000112.txt\n",
      "000018.txt  000037.txt  000056.txt  000075.txt  000094.txt  000113.txt\n"
     ]
    }
   ],
   "source": [
    "ls ../socket_dataset/training/label_2/000000.txt"
   ]
  },
  {
   "cell_type": "code",
   "execution_count": null,
   "metadata": {},
   "outputs": [],
   "source": []
  },
  {
   "cell_type": "code",
   "execution_count": null,
   "metadata": {},
   "outputs": [],
   "source": []
  },
  {
   "cell_type": "code",
   "execution_count": null,
   "metadata": {},
   "outputs": [],
   "source": []
  },
  {
   "cell_type": "code",
   "execution_count": 27,
   "metadata": {},
   "outputs": [
    {
     "name": "stdout",
     "output_type": "stream",
     "text": [
      "\u001b[34mother\u001b[m\u001b[m/     train.txt  \u001b[34mtraining\u001b[m\u001b[m/  val.txt\n"
     ]
    }
   ],
   "source": []
  },
  {
   "cell_type": "code",
   "execution_count": null,
   "metadata": {},
   "outputs": [],
   "source": []
  }
 ],
 "metadata": {
  "kernelspec": {
   "display_name": "socket_detection",
   "language": "python",
   "name": "socket_detection"
  },
  "language_info": {
   "codemirror_mode": {
    "name": "ipython",
    "version": 3
   },
   "file_extension": ".py",
   "mimetype": "text/x-python",
   "name": "python",
   "nbconvert_exporter": "python",
   "pygments_lexer": "ipython3",
   "version": "3.8.5"
  }
 },
 "nbformat": 4,
 "nbformat_minor": 4
}
